{
 "cells": [
  {
   "cell_type": "markdown",
   "id": "f01d0671-4b10-41af-be99-11cbaa26d409",
   "metadata": {},
   "source": [
    "# CO$_2$ rate (g/s) prediction with XGBoost"
   ]
  },
  {
   "cell_type": "markdown",
   "id": "21c4b58d-760b-45dd-90e7-7eb6d5402d54",
   "metadata": {},
   "source": [
    "Import necessary libraries."
   ]
  },
  {
   "cell_type": "code",
   "execution_count": 1,
   "id": "d5ef6abd-6e5a-420f-891e-ef2ff9e4c68b",
   "metadata": {},
   "outputs": [],
   "source": [
    "import os\n",
    "import math\n",
    "import pandas as pd\n",
    "import numpy as np\n",
    "from sklearn.model_selection import train_test_split, cross_val_score, GridSearchCV, TimeSeriesSplit\n",
    "from sklearn.metrics import mean_absolute_error, mean_squared_error\n",
    "from sklearn.preprocessing import StandardScaler\n",
    "from xgboost import XGBRegressor\n",
    "import matplotlib.pyplot as plt\n",
    "import pickle\n",
    "%matplotlib inline"
   ]
  },
  {
   "cell_type": "markdown",
   "id": "15415d19-7364-4e0a-9c76-32134b77f5f8",
   "metadata": {},
   "source": [
    "First, define processed data path and vehicle name. Next, read the processed data file for the given vehicle and rename the set of predictors for further steps."
   ]
  },
  {
   "cell_type": "code",
   "execution_count": 2,
   "id": "9f455461-5d8b-4df3-9d87-537193cfa7f3",
   "metadata": {},
   "outputs": [
    {
     "data": {
      "text/html": [
       "<div>\n",
       "<style scoped>\n",
       "    .dataframe tbody tr th:only-of-type {\n",
       "        vertical-align: middle;\n",
       "    }\n",
       "\n",
       "    .dataframe tbody tr th {\n",
       "        vertical-align: top;\n",
       "    }\n",
       "\n",
       "    .dataframe thead th {\n",
       "        text-align: right;\n",
       "    }\n",
       "</style>\n",
       "<table border=\"1\" class=\"dataframe\">\n",
       "  <thead>\n",
       "    <tr style=\"text-align: right;\">\n",
       "      <th></th>\n",
       "      <th>Acceleration</th>\n",
       "      <th>RPM</th>\n",
       "      <th>Slope</th>\n",
       "      <th>CO2</th>\n",
       "    </tr>\n",
       "    <tr>\n",
       "      <th>DateTime</th>\n",
       "      <th></th>\n",
       "      <th></th>\n",
       "      <th></th>\n",
       "      <th></th>\n",
       "    </tr>\n",
       "  </thead>\n",
       "  <tbody>\n",
       "    <tr>\n",
       "      <th>2019-12-12 16:49:19</th>\n",
       "      <td>-5.551115e-16</td>\n",
       "      <td>700.0</td>\n",
       "      <td>-0.017189</td>\n",
       "      <td>0.967069</td>\n",
       "    </tr>\n",
       "    <tr>\n",
       "      <th>2019-12-12 16:49:20</th>\n",
       "      <td>-5.551115e-16</td>\n",
       "      <td>700.0</td>\n",
       "      <td>-0.021846</td>\n",
       "      <td>0.967069</td>\n",
       "    </tr>\n",
       "    <tr>\n",
       "      <th>2019-12-12 16:49:21</th>\n",
       "      <td>-5.551115e-16</td>\n",
       "      <td>700.0</td>\n",
       "      <td>-0.020522</td>\n",
       "      <td>0.967069</td>\n",
       "    </tr>\n",
       "    <tr>\n",
       "      <th>2019-12-12 16:49:22</th>\n",
       "      <td>-5.551115e-16</td>\n",
       "      <td>700.0</td>\n",
       "      <td>-0.017629</td>\n",
       "      <td>0.967069</td>\n",
       "    </tr>\n",
       "    <tr>\n",
       "      <th>2019-12-12 16:49:23</th>\n",
       "      <td>-5.551115e-16</td>\n",
       "      <td>700.0</td>\n",
       "      <td>-0.029578</td>\n",
       "      <td>0.967069</td>\n",
       "    </tr>\n",
       "  </tbody>\n",
       "</table>\n",
       "</div>"
      ],
      "text/plain": [
       "                     Acceleration    RPM     Slope       CO2\n",
       "DateTime                                                    \n",
       "2019-12-12 16:49:19 -5.551115e-16  700.0 -0.017189  0.967069\n",
       "2019-12-12 16:49:20 -5.551115e-16  700.0 -0.021846  0.967069\n",
       "2019-12-12 16:49:21 -5.551115e-16  700.0 -0.020522  0.967069\n",
       "2019-12-12 16:49:22 -5.551115e-16  700.0 -0.017629  0.967069\n",
       "2019-12-12 16:49:23 -5.551115e-16  700.0 -0.029578  0.967069"
      ]
     },
     "execution_count": 2,
     "metadata": {},
     "output_type": "execute_result"
    }
   ],
   "source": [
    "path_home = os.path.abspath(os.getcwd())\n",
    "path_data = os.path.join(path_home, 'Processed Data', 'Class I - ICEV')\n",
    "vehicle = 'Nissan_Rouge_2020_(December_2019)'\n",
    "data = pd.read_csv(os.path.join(path_data, vehicle + '.csv'), delimiter=',', index_col = 0)\n",
    "\n",
    "var_names = {'Acceleration [m.s-2]':'Acceleration', 'Engine Speed [rpm]':'RPM', 'Slope [%]':'Slope', 'CO2 Rate [g.s-1]':'CO2'}\n",
    "data = data[var_names.keys()]\n",
    "data.rename(columns=var_names, inplace=True)\n",
    "\n",
    "response = 'CO2'\n",
    "predictors = ['RPM', 'Acceleration', 'Slope']\n",
    "\n",
    "data.head()"
   ]
  },
  {
   "cell_type": "markdown",
   "id": "fef2bc0e-47c4-410c-89b8-9757c70ab932",
   "metadata": {},
   "source": [
    "## Instantaneous readings (without lagged predictors)"
   ]
  },
  {
   "cell_type": "markdown",
   "id": "b7a3473d-8f51-43b2-9db8-68794de66d95",
   "metadata": {},
   "source": [
    "Split the data into train (80%) and test sets (20%) without shuffling."
   ]
  },
  {
   "cell_type": "code",
   "execution_count": 3,
   "id": "96452d5f-b3fa-476e-b03d-5164a5bc49de",
   "metadata": {},
   "outputs": [],
   "source": [
    "X_train, X_test, y_train, y_test = train_test_split(data[predictors], data[response], test_size=0.2, shuffle=False)"
   ]
  },
  {
   "cell_type": "markdown",
   "id": "3152df6b-2dde-401a-ae54-e0cf208ea20f",
   "metadata": {},
   "source": [
    "Define the hyperparameter grid for XGBoost model."
   ]
  },
  {
   "cell_type": "code",
   "execution_count": 4,
   "id": "63886918-0d3e-4606-a676-2ff32f0bcb3c",
   "metadata": {},
   "outputs": [],
   "source": [
    "param_grid = {\n",
    "    \"n_estimators\" : [25, 50, 100, 200],\n",
    "    \"max_depth\" : [1, 2, 3, 5, 7, 10],\n",
    "    \"eta\" : [0.01, 0.05, 0.1, 0.2],\n",
    "    \"subsample\" : [0.632, 1],\n",
    "    \"colsample_bytree\" : [0.5, 0.8, 1]\n",
    "}"
   ]
  },
  {
   "cell_type": "markdown",
   "id": "d36342d2-f075-49c2-9473-ea5e757d0f57",
   "metadata": {},
   "source": [
    "Search for the best set of hyperparameters with 5-fold time series cross-validation. "
   ]
  },
  {
   "cell_type": "code",
   "execution_count": 5,
   "id": "fbcd80b0-dfe0-48cc-828d-b6c51f09984f",
   "metadata": {},
   "outputs": [
    {
     "name": "stdout",
     "output_type": "stream",
     "text": [
      "Best hyperparameters : {'colsample_bytree': 0.8, 'eta': 0.2, 'max_depth': 2, 'n_estimators': 25, 'subsample': 0.632}\n"
     ]
    }
   ],
   "source": [
    "cv_fold = TimeSeriesSplit(n_splits=5) \n",
    "model = XGBRegressor(random_state=42)\n",
    "search = GridSearchCV(estimator=model, param_grid=param_grid, n_jobs=2, cv=cv_fold, scoring=\"neg_root_mean_squared_error\")\n",
    "results = search.fit(X_train, y_train)\n",
    "best_model = results.best_estimator_\n",
    "print('Best hyperparameters :', results.best_params_)"
   ]
  },
  {
   "cell_type": "markdown",
   "id": "14b681c2-cac5-4856-bded-1ac7593bae29",
   "metadata": {},
   "source": [
    "Get the predictions for the test set."
   ]
  },
  {
   "cell_type": "code",
   "execution_count": 6,
   "id": "b1ad8b50-a7fd-4cea-b551-8a1635a397d1",
   "metadata": {},
   "outputs": [],
   "source": [
    "y_test_pred = best_model.predict(X_test)\n",
    "y_test_pred = np.maximum(y_test_pred, np.zeros(len(y_test)))\n",
    "out_no_lag = pd.DataFrame({'true' : y_test, 'pred' : y_test_pred})"
   ]
  },
  {
   "cell_type": "markdown",
   "id": "383db48b-1ce3-40de-b5ab-aac902c11ef4",
   "metadata": {},
   "source": [
    "## With lagged predictors"
   ]
  },
  {
   "cell_type": "markdown",
   "id": "6888e772-a4df-41dc-8bb4-8153b6ffcc8f",
   "metadata": {},
   "source": [
    "Prepare data by adding lagged variables. In this example, lag is 2. Hence, the predictor set for the instance at time $t$ extends to include $[\\mathbf{x}_{t-2}, \\mathbf{x}_{t-1}, \\mathbf{x}_t]$, where $\\mathbf{x}_t$ includes engine speed, acceleration and slope at time $t$. "
   ]
  },
  {
   "cell_type": "code",
   "execution_count": 7,
   "id": "9d25b6cd-e807-4f1b-829e-f30fce8bf0db",
   "metadata": {},
   "outputs": [
    {
     "data": {
      "text/html": [
       "<div>\n",
       "<style scoped>\n",
       "    .dataframe tbody tr th:only-of-type {\n",
       "        vertical-align: middle;\n",
       "    }\n",
       "\n",
       "    .dataframe tbody tr th {\n",
       "        vertical-align: top;\n",
       "    }\n",
       "\n",
       "    .dataframe thead th {\n",
       "        text-align: right;\n",
       "    }\n",
       "</style>\n",
       "<table border=\"1\" class=\"dataframe\">\n",
       "  <thead>\n",
       "    <tr style=\"text-align: right;\">\n",
       "      <th></th>\n",
       "      <th>RPM_lag2</th>\n",
       "      <th>Acceleration_lag2</th>\n",
       "      <th>Slope_lag2</th>\n",
       "      <th>RPM_lag1</th>\n",
       "      <th>Acceleration_lag1</th>\n",
       "      <th>Slope_lag1</th>\n",
       "      <th>RPM</th>\n",
       "      <th>Acceleration</th>\n",
       "      <th>Slope</th>\n",
       "      <th>CO2</th>\n",
       "    </tr>\n",
       "    <tr>\n",
       "      <th>DateTime</th>\n",
       "      <th></th>\n",
       "      <th></th>\n",
       "      <th></th>\n",
       "      <th></th>\n",
       "      <th></th>\n",
       "      <th></th>\n",
       "      <th></th>\n",
       "      <th></th>\n",
       "      <th></th>\n",
       "      <th></th>\n",
       "    </tr>\n",
       "  </thead>\n",
       "  <tbody>\n",
       "    <tr>\n",
       "      <th>2019-12-12 16:49:21</th>\n",
       "      <td>700.0</td>\n",
       "      <td>-5.551115e-16</td>\n",
       "      <td>-0.017189</td>\n",
       "      <td>700.0</td>\n",
       "      <td>-5.551115e-16</td>\n",
       "      <td>-0.021846</td>\n",
       "      <td>700.0</td>\n",
       "      <td>-5.551115e-16</td>\n",
       "      <td>-0.020522</td>\n",
       "      <td>0.967069</td>\n",
       "    </tr>\n",
       "    <tr>\n",
       "      <th>2019-12-12 16:49:22</th>\n",
       "      <td>700.0</td>\n",
       "      <td>-5.551115e-16</td>\n",
       "      <td>-0.021846</td>\n",
       "      <td>700.0</td>\n",
       "      <td>-5.551115e-16</td>\n",
       "      <td>-0.020522</td>\n",
       "      <td>700.0</td>\n",
       "      <td>-5.551115e-16</td>\n",
       "      <td>-0.017629</td>\n",
       "      <td>0.967069</td>\n",
       "    </tr>\n",
       "    <tr>\n",
       "      <th>2019-12-12 16:49:23</th>\n",
       "      <td>700.0</td>\n",
       "      <td>-5.551115e-16</td>\n",
       "      <td>-0.020522</td>\n",
       "      <td>700.0</td>\n",
       "      <td>-5.551115e-16</td>\n",
       "      <td>-0.017629</td>\n",
       "      <td>700.0</td>\n",
       "      <td>-5.551115e-16</td>\n",
       "      <td>-0.029578</td>\n",
       "      <td>0.967069</td>\n",
       "    </tr>\n",
       "    <tr>\n",
       "      <th>2019-12-12 16:49:24</th>\n",
       "      <td>700.0</td>\n",
       "      <td>-5.551115e-16</td>\n",
       "      <td>-0.017629</td>\n",
       "      <td>700.0</td>\n",
       "      <td>-5.551115e-16</td>\n",
       "      <td>-0.029578</td>\n",
       "      <td>700.0</td>\n",
       "      <td>-5.551115e-16</td>\n",
       "      <td>-0.034365</td>\n",
       "      <td>0.967069</td>\n",
       "    </tr>\n",
       "    <tr>\n",
       "      <th>2019-12-12 16:49:25</th>\n",
       "      <td>700.0</td>\n",
       "      <td>-5.551115e-16</td>\n",
       "      <td>-0.029578</td>\n",
       "      <td>700.0</td>\n",
       "      <td>-5.551115e-16</td>\n",
       "      <td>-0.034365</td>\n",
       "      <td>700.0</td>\n",
       "      <td>-5.551115e-16</td>\n",
       "      <td>-0.025033</td>\n",
       "      <td>0.967069</td>\n",
       "    </tr>\n",
       "  </tbody>\n",
       "</table>\n",
       "</div>"
      ],
      "text/plain": [
       "                     RPM_lag2  Acceleration_lag2  Slope_lag2  RPM_lag1  \\\n",
       "DateTime                                                                 \n",
       "2019-12-12 16:49:21     700.0      -5.551115e-16   -0.017189     700.0   \n",
       "2019-12-12 16:49:22     700.0      -5.551115e-16   -0.021846     700.0   \n",
       "2019-12-12 16:49:23     700.0      -5.551115e-16   -0.020522     700.0   \n",
       "2019-12-12 16:49:24     700.0      -5.551115e-16   -0.017629     700.0   \n",
       "2019-12-12 16:49:25     700.0      -5.551115e-16   -0.029578     700.0   \n",
       "\n",
       "                     Acceleration_lag1  Slope_lag1    RPM  Acceleration  \\\n",
       "DateTime                                                                  \n",
       "2019-12-12 16:49:21      -5.551115e-16   -0.021846  700.0 -5.551115e-16   \n",
       "2019-12-12 16:49:22      -5.551115e-16   -0.020522  700.0 -5.551115e-16   \n",
       "2019-12-12 16:49:23      -5.551115e-16   -0.017629  700.0 -5.551115e-16   \n",
       "2019-12-12 16:49:24      -5.551115e-16   -0.029578  700.0 -5.551115e-16   \n",
       "2019-12-12 16:49:25      -5.551115e-16   -0.034365  700.0 -5.551115e-16   \n",
       "\n",
       "                        Slope       CO2  \n",
       "DateTime                                 \n",
       "2019-12-12 16:49:21 -0.020522  0.967069  \n",
       "2019-12-12 16:49:22 -0.017629  0.967069  \n",
       "2019-12-12 16:49:23 -0.029578  0.967069  \n",
       "2019-12-12 16:49:24 -0.034365  0.967069  \n",
       "2019-12-12 16:49:25 -0.025033  0.967069  "
      ]
     },
     "execution_count": 7,
     "metadata": {},
     "output_type": "execute_result"
    }
   ],
   "source": [
    "lag = 2\n",
    "\n",
    "cols = list()\n",
    "for i in range(lag, -1, -1):\n",
    "    cols.append(data[predictors].shift(i))\n",
    "agg = pd.concat(cols, axis=1)\n",
    "agg = pd.concat([agg, data[response]], axis=1)\n",
    "agg.set_index([data.index], inplace=True)\n",
    "agg.dropna(inplace=True)\n",
    "lagged_data = agg.values\n",
    "    \n",
    "col_names = []\n",
    "for i in range(lag, 0, -1):\n",
    "    for col in predictors:\n",
    "        col_names.append(col + \"_lag\" + str(i))\n",
    "predictors2 = col_names + predictors \n",
    "col_names = predictors2 + [response]\n",
    "lagged_data = pd.DataFrame(lagged_data, columns = col_names)\n",
    "lagged_data.set_index([agg.index], inplace=True)\n",
    "\n",
    "lagged_data.head()"
   ]
  },
  {
   "cell_type": "markdown",
   "id": "ed2834dd-6c20-4d21-bd69-4f707b0af309",
   "metadata": {},
   "source": [
    "Split the data into train and test sets without shuffling. Test set includes the same set of instances as the previous example."
   ]
  },
  {
   "cell_type": "code",
   "execution_count": 8,
   "id": "1a3fcf34-ec00-4d20-af4a-6102bac797bb",
   "metadata": {},
   "outputs": [],
   "source": [
    "ntest = round(data.shape[0] * 0.2)\n",
    "X_train, X_test, y_train, y_test = train_test_split(lagged_data[predictors2], lagged_data[response], test_size=ntest, shuffle=False)"
   ]
  },
  {
   "cell_type": "markdown",
   "id": "d49e55b8-c0ca-432a-b2d2-80babcd4b9d5",
   "metadata": {},
   "source": [
    "Define the hyperparameter grid for XGBoost model."
   ]
  },
  {
   "cell_type": "code",
   "execution_count": 9,
   "id": "443aff7a-76d9-4e89-9777-a35add5b8244",
   "metadata": {},
   "outputs": [],
   "source": [
    "param_grid = {\n",
    "    \"n_estimators\" : [25, 50, 100, 200],\n",
    "    \"max_depth\" : [1, 2, 3, 5, 7, 10],\n",
    "    \"eta\" : [0.01, 0.05, 0.1, 0.2],\n",
    "    \"subsample\" : [0.632, 1],\n",
    "    \"colsample_bytree\" : [0.5, 0.8, 1]\n",
    "}"
   ]
  },
  {
   "cell_type": "markdown",
   "id": "521a4198-7f74-4bf5-b1e1-e631e821a412",
   "metadata": {},
   "source": [
    "Search for the best set of hyperparameters with 5-fold time series cross-validation. "
   ]
  },
  {
   "cell_type": "code",
   "execution_count": 10,
   "id": "4b1de29c-7697-40e6-9f60-aade3b4b5c39",
   "metadata": {},
   "outputs": [
    {
     "name": "stdout",
     "output_type": "stream",
     "text": [
      "Best hyperparameters : {'colsample_bytree': 1, 'eta': 0.05, 'max_depth': 3, 'n_estimators': 100, 'subsample': 0.632}\n"
     ]
    }
   ],
   "source": [
    "cv_fold = TimeSeriesSplit(n_splits=5) \n",
    "model = XGBRegressor(random_state=42)\n",
    "search = GridSearchCV(estimator=model, param_grid=param_grid, n_jobs=2, cv=cv_fold, scoring=\"neg_root_mean_squared_error\")\n",
    "results = search.fit(X_train, y_train)\n",
    "best_model = results.best_estimator_\n",
    "print('Best hyperparameters :', results.best_params_)"
   ]
  },
  {
   "cell_type": "markdown",
   "id": "72eceaaf-50cd-42d4-9fde-d03e6a4a5ce8",
   "metadata": {},
   "source": [
    "Get the predictions for the test set."
   ]
  },
  {
   "cell_type": "code",
   "execution_count": 11,
   "id": "a790f55a-58b2-4e9c-b778-ccb21a02eeba",
   "metadata": {},
   "outputs": [],
   "source": [
    "y_test_pred = best_model.predict(X_test)\n",
    "y_test_pred = np.maximum(y_test_pred, np.zeros(len(y_test)))\n",
    "out_lag = pd.DataFrame({'true' : y_test, 'pred' : y_test_pred})"
   ]
  },
  {
   "cell_type": "markdown",
   "id": "2931ff51-9e8f-4190-bbee-0780d140ce55",
   "metadata": {},
   "source": [
    "## Prediction accuracy comparison"
   ]
  },
  {
   "cell_type": "markdown",
   "id": "d77a8268-4a42-4beb-addf-b4b8107fe6a6",
   "metadata": {},
   "source": [
    "For both with and without lagged predictors, compute Mean Absolute Error (MAE) as $$MAE = \\frac{1}{n_{test}} \\sum_{i=1}^{n_{test}} |y_i - \\hat y_i| $$ where $y_i$ is the true response and $\\hat y_i$ is the predicted response for instance $i$."
   ]
  },
  {
   "cell_type": "code",
   "execution_count": 12,
   "id": "91ca466f-ab5e-43ad-9ad9-dd2b95f09b76",
   "metadata": {},
   "outputs": [
    {
     "name": "stdout",
     "output_type": "stream",
     "text": [
      "MAE (instantaneous readings) = 0.450\n",
      "MAE (with lagged predictors) = 0.423\n"
     ]
    }
   ],
   "source": [
    "print('MAE (instantaneous readings) = %.3f' % mean_absolute_error(out_no_lag['true'], out_no_lag['pred']))\n",
    "print('MAE (with lagged predictors) = %.3f' % mean_absolute_error(out_lag['true'], out_lag['pred']))"
   ]
  },
  {
   "cell_type": "markdown",
   "id": "992b9a0e-414e-43db-883d-a211fcc9fa92",
   "metadata": {},
   "source": [
    "Scatterplot of true and predicted response."
   ]
  },
  {
   "cell_type": "code",
   "execution_count": 13,
   "id": "900d30f7-95ff-4947-b55b-309a2ddd8fd5",
   "metadata": {},
   "outputs": [
    {
     "data": {
      "image/png": "[encoded data removed]",
      "text/plain": [
       "<Figure size 800x400 with 2 Axes>"
      ]
     },
     "metadata": {},
     "output_type": "display_data"
    }
   ],
   "source": [
    "max_lim = max(out_no_lag['true'].max(), out_no_lag['pred'].max(), out_lag['true'].max(), out_lag['pred'].max()) + 0.5\n",
    "\n",
    "f, (ax1, ax2) = plt.subplots(1, 2, figsize=(8,4))\n",
    "ax1.scatter(out_no_lag['true'], out_no_lag['pred'], c=\".2\", s=3)\n",
    "ax1.axline((0, 0), (1, 1), linewidth=1, color='r')\n",
    "ax1.set_xlim(0, max_lim)\n",
    "ax1.set_ylim(0, max_lim)\n",
    "ax1.title.set_text('Instantaneous readings')\n",
    "ax2.scatter(out_lag['true'], out_lag['pred'], c=\".2\", s=3)\n",
    "ax2.axline((0, 0), (1, 1), linewidth=1, color='r')\n",
    "ax2.set_xlim(0, max_lim)\n",
    "ax2.set_ylim(0, max_lim)\n",
    "ax2.title.set_text('With lagged predictors')\n",
    "f.supxlabel('True ' + response)\n",
    "f.supylabel('Predicted ' + response)\n",
    "plt.show()"
   ]
  },
  {
   "cell_type": "code",
   "execution_count": null,
   "id": "af16319b",
   "metadata": {},
   "outputs": [],
   "source": []
  }
 ],
 "metadata": {
  "kernelspec": {
   "display_name": "Python 3 (ipykernel)",
   "language": "python",
   "name": "python3"
  },
  "language_info": {
   "codemirror_mode": {
    "name": "ipython",
    "version": 3
   },
   "file_extension": ".py",
   "mimetype": "text/x-python",
   "name": "python",
   "nbconvert_exporter": "python",
   "pygments_lexer": "ipython3",
   "version": "3.9.13"
  }
 },
 "nbformat": 4,
 "nbformat_minor": 5
}
